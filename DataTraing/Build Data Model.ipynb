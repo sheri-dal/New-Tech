{
 "cells": [
  {
   "cell_type": "code",
   "execution_count": 1,
   "id": "70a7e082",
   "metadata": {},
   "outputs": [],
   "source": [
    "import glob\n",
    "import os\n",
    "import numpy as np\n",
    "from tensorflow.keras.models import Sequential\n",
    "from keras.layers import Dense, Dropout, Flatten, Conv2D, MaxPooling2D\n",
    "from PIL import Image\n",
    "from sklearn.preprocessing import LabelEncoder\n",
    "from sklearn.preprocessing import OneHotEncoder\n",
    "from sklearn.model_selection import train_test_split\n",
    "import seaborn as sns\n",
    "import matplotlib.pyplot as plt\n",
    "from tensorflow.keras.utils import to_categorical\n",
    "from keras.preprocessing.image import ImageDataGenerator\n",
    "import pickle\n",
    "import warnings\n",
    "warnings.filterwarnings(\"ignore\")\n",
    "import cv2"
   ]
  },
  {
   "cell_type": "code",
   "execution_count": 2,
   "id": "beee1afe",
   "metadata": {},
   "outputs": [
    {
     "name": "stdout",
     "output_type": "stream",
     "text": [
      "Label(sınıf) Sayısı 3\n"
     ]
    }
   ],
   "source": [
    "path = \"myData\"\n",
    "\n",
    "myList = os.listdir(path)\n",
    "noOfClasses = len(myList)\n",
    "\n",
    "print(\"Label(sınıf) Sayısı\", noOfClasses)\n"
   ]
  },
  {
   "cell_type": "code",
   "execution_count": 3,
   "id": "b786db9a",
   "metadata": {},
   "outputs": [
    {
     "name": "stdout",
     "output_type": "stream",
     "text": [
      "1598\n",
      "1598\n"
     ]
    }
   ],
   "source": [
    "images = []\n",
    "classNo = []\n",
    "\n",
    "for i in range(noOfClasses):\n",
    "    myImageList = os.listdir(path + \"\\\\\"+str(i))\n",
    "    for j in myImageList:\n",
    "        img = cv2.imread(path + \"\\\\\"+str(i)+\"\\\\\"+j)\n",
    "        img = cv2.resize(img,(32,32))\n",
    "        images.append(img)\n",
    "        classNo.append(i)\n",
    "        \n",
    "print(len(images))\n",
    "print(len(classNo))"
   ]
  },
  {
   "cell_type": "code",
   "execution_count": 4,
   "id": "21bab0b3",
   "metadata": {},
   "outputs": [
    {
     "name": "stdout",
     "output_type": "stream",
     "text": [
      "(1598, 32, 32, 3)\n"
     ]
    }
   ],
   "source": [
    "images = np.array(images)\n",
    "classNo = np.array(classNo)\n",
    "\n",
    "print(images.shape)"
   ]
  },
  {
   "cell_type": "code",
   "execution_count": 5,
   "id": "18b6e715",
   "metadata": {},
   "outputs": [
    {
     "name": "stdout",
     "output_type": "stream",
     "text": [
      "(1598, 32, 32, 3)\n",
      "(639, 32, 32, 3)\n",
      "(799, 32, 32, 3)\n",
      "(160, 32, 32, 3)\n"
     ]
    }
   ],
   "source": [
    "x_train, x_test, y_train, y_test = train_test_split(images,classNo,test_size = 0.5, random_state = 42)\n",
    "x_train, x_validation, y_train, y_validation = train_test_split(x_train,y_train,test_size = 0.2, random_state = 42)\n",
    "\n",
    "print(images.shape)\n",
    "print(x_train.shape)\n",
    "print(x_test.shape)\n",
    "print(x_validation.shape)"
   ]
  },
  {
   "cell_type": "code",
   "execution_count": 6,
   "id": "b27b93fb",
   "metadata": {},
   "outputs": [
    {
     "data": {
      "text/plain": [
       "Text(0.5, 1.0, 'y_validation')"
      ]
     },
     "execution_count": 6,
     "metadata": {},
     "output_type": "execute_result"
    },
    {
     "data": {
      "image/png": "[encoded data removed]",
      "text/plain": [
       "<Figure size 700x700 with 3 Axes>"
      ]
     },
     "metadata": {},
     "output_type": "display_data"
    }
   ],
   "source": [
    "fig, axes = plt.subplots(3,1,figsize=(7,7))\n",
    "fig.subplots_adjust(hspace = 0.5)\n",
    "sns.countplot(y_train,ax=axes[0])\n",
    "axes[0].set_title(\"y_train\")\n",
    "\n",
    "sns.countplot(y_train,ax=axes[1])\n",
    "axes[1].set_title(\"y_test\")\n",
    "\n",
    "sns.countplot(y_train,ax=axes[2])\n",
    "axes[2].set_title(\"y_validation\")"
   ]
  },
  {
   "cell_type": "code",
   "execution_count": 7,
   "id": "26690811",
   "metadata": {},
   "outputs": [
    {
     "name": "stdout",
     "output_type": "stream",
     "text": [
      "(639, 32, 32, 1)\n"
     ]
    }
   ],
   "source": [
    "def preProcess(img):\n",
    "    img = cv2.cvtColor(img,cv2.COLOR_BGR2GRAY)\n",
    "    img = cv2.equalizeHist(img)\n",
    "    img = img / 255\n",
    "    \n",
    "    return img\n",
    "\n",
    "x_train = np.array(list(map(preProcess, x_train)))\n",
    "x_test = np.array(list(map(preProcess,x_test)))\n",
    "x_validation = np.array(list(map(preProcess,x_validation)))\n",
    "x_train = x_train.reshape(-1,32,32,1)\n",
    "print(x_train.shape)\n",
    "x_test = x_test.reshape(-1,32,32,1)\n",
    "x_validation = x_validation.reshape(-1,32,32,1)"
   ]
  },
  {
   "cell_type": "code",
   "execution_count": 8,
   "id": "2d42c77d",
   "metadata": {},
   "outputs": [
    {
     "name": "stdout",
     "output_type": "stream",
     "text": [
      "Epoch 1/15\n",
      "2/2 [==============================] - 3s 762ms/step - loss: 1.1112 - accuracy: 0.4120 - val_loss: 0.7742 - val_accuracy: 0.8500\n",
      "Epoch 2/15\n",
      "2/2 [==============================] - 0s 233ms/step - loss: 0.7353 - accuracy: 0.8638 - val_loss: 0.5762 - val_accuracy: 0.8500\n",
      "Epoch 3/15\n",
      "2/2 [==============================] - 1s 311ms/step - loss: 0.5083 - accuracy: 0.8680 - val_loss: 0.6296 - val_accuracy: 0.8500\n",
      "Epoch 4/15\n",
      "2/2 [==============================] - 1s 306ms/step - loss: 0.5742 - accuracy: 0.8580 - val_loss: 0.7065 - val_accuracy: 0.8500\n",
      "Epoch 5/15\n",
      "2/2 [==============================] - 1s 330ms/step - loss: 0.5602 - accuracy: 0.8680 - val_loss: 0.6820 - val_accuracy: 0.8500\n",
      "Epoch 6/15\n",
      "2/2 [==============================] - 1s 213ms/step - loss: 0.5068 - accuracy: 0.8766 - val_loss: 0.6234 - val_accuracy: 0.8500\n",
      "Epoch 7/15\n",
      "2/2 [==============================] - 1s 275ms/step - loss: 0.5168 - accuracy: 0.8680 - val_loss: 0.5722 - val_accuracy: 0.8500\n",
      "Epoch 8/15\n",
      "2/2 [==============================] - 0s 295ms/step - loss: 0.4968 - accuracy: 0.8663 - val_loss: 0.5453 - val_accuracy: 0.8500\n",
      "Epoch 9/15\n",
      "2/2 [==============================] - 0s 193ms/step - loss: 0.4894 - accuracy: 0.8663 - val_loss: 0.5380 - val_accuracy: 0.8500\n",
      "Epoch 10/15\n",
      "2/2 [==============================] - 1s 221ms/step - loss: 0.5359 - accuracy: 0.8483 - val_loss: 0.5374 - val_accuracy: 0.8500\n",
      "Epoch 11/15\n",
      "2/2 [==============================] - 1s 224ms/step - loss: 0.5274 - accuracy: 0.8560 - val_loss: 0.5371 - val_accuracy: 0.8500\n",
      "Epoch 12/15\n",
      "2/2 [==============================] - 0s 191ms/step - loss: 0.4850 - accuracy: 0.8715 - val_loss: 0.5349 - val_accuracy: 0.8500\n",
      "Epoch 13/15\n",
      "2/2 [==============================] - 1s 287ms/step - loss: 0.4927 - accuracy: 0.8640 - val_loss: 0.5357 - val_accuracy: 0.8500\n",
      "Epoch 14/15\n",
      "2/2 [==============================] - 1s 343ms/step - loss: 0.4594 - accuracy: 0.8766 - val_loss: 0.5426 - val_accuracy: 0.8500\n",
      "Epoch 15/15\n",
      "2/2 [==============================] - 1s 277ms/step - loss: 0.4935 - accuracy: 0.8640 - val_loss: 0.5524 - val_accuracy: 0.8500\n"
     ]
    }
   ],
   "source": [
    "dataGen = ImageDataGenerator(width_shift_range=0.1,\n",
    "                            height_shift_range=0.1,\n",
    "                            zoom_range= 0.1,\n",
    "                            rotation_range= 10)\n",
    "\n",
    "dataGen.fit(x_train)\n",
    "\n",
    "y_train = to_categorical(y_train,noOfClasses)\n",
    "y_test = to_categorical(y_test,noOfClasses)\n",
    "y_validation = to_categorical(y_validation,noOfClasses)\n",
    "\n",
    "model = Sequential()\n",
    "model.add(Conv2D(input_shape = (32,32,1), filters = 8, kernel_size = (5,5),activation = \"relu\", padding = \"same\" ))\n",
    "model.add(MaxPooling2D(pool_size = (2,2)))\n",
    "\n",
    "model.add(Conv2D(filters = 8, kernel_size = (3,3),activation = \"relu\", padding = \"same\" ))\n",
    "model.add(MaxPooling2D(pool_size = (2,2)))\n",
    "\n",
    "model.add(Dropout(0.2))\n",
    "model.add(Flatten())\n",
    "model.add(Dense(units = 256, activation = \"relu\"))\n",
    "model.add(Dropout(0.2))\n",
    "model.add(Dense(units = noOfClasses, activation = \"softmax\"))\n",
    "\n",
    "model.compile(loss = \"categorical_crossentropy\", optimizer=(\"Adam\"), metrics = [\"accuracy\"])\n",
    "\n",
    "batch_size = 250\n",
    "\n",
    "hist = model.fit_generator(dataGen.flow(x_train, y_train, batch_size = batch_size),\n",
    "                                      validation_data = (x_validation, y_validation),\n",
    "                                      epochs = 15, steps_per_epoch = x_train.shape[0]//batch_size, shuffle = 5)"
   ]
  },
  {
   "cell_type": "code",
   "execution_count": 10,
   "id": "28f61ef8",
   "metadata": {},
   "outputs": [
    {
     "name": "stderr",
     "output_type": "stream",
     "text": [
      "WARNING:absl:Found untraced functions such as _jit_compiled_convolution_op, _jit_compiled_convolution_op, _update_step_xla while saving (showing 3 of 3). These functions will not be directly callable after loading.\n"
     ]
    },
    {
     "name": "stdout",
     "output_type": "stream",
     "text": [
      "INFO:tensorflow:Assets written to: ../models/dataset\\assets\n"
     ]
    },
    {
     "name": "stderr",
     "output_type": "stream",
     "text": [
      "INFO:tensorflow:Assets written to: ../models/dataset\\assets\n"
     ]
    }
   ],
   "source": [
    "\n",
    "model.save(f\"../models/dataset\")\n"
   ]
  },
  {
   "cell_type": "code",
   "execution_count": null,
   "id": "68a9e1e0",
   "metadata": {},
   "outputs": [],
   "source": []
  }
 ],
 "metadata": {
  "kernelspec": {
   "display_name": "Python 3 (ipykernel)",
   "language": "python",
   "name": "python3"
  },
  "language_info": {
   "codemirror_mode": {
    "name": "ipython",
    "version": 3
   },
   "file_extension": ".py",
   "mimetype": "text/x-python",
   "name": "python",
   "nbconvert_exporter": "python",
   "pygments_lexer": "ipython3",
   "version": "3.10.9"
  }
 },
 "nbformat": 4,
 "nbformat_minor": 5
}
